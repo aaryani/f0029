{
 "cells": [
  {
   "cell_type": "code",
   "execution_count": 44,
   "metadata": {},
   "outputs": [
    {
     "name": "stdout",
     "output_type": "stream",
     "text": [
      "2018-12-30 19:58\n"
     ]
    }
   ],
   "source": [
    "import argparse\n",
    "import os.path\n",
    "import time\n",
    "import pandas as pd\n",
    "import datetime\n",
    "import configparser \n",
    "now = datetime.datetime.now().strftime(\"%Y-%m-%d %H:%M\")\n",
    "print (now)"
   ]
  },
  {
   "cell_type": "markdown",
   "metadata": {},
   "source": [
    "# Load Input CSV file"
   ]
  },
  {
   "cell_type": "code",
   "execution_count": 45,
   "metadata": {},
   "outputs": [
    {
     "name": "stdout",
     "output_type": "stream",
     "text": [
      "Input file: sample-imput/activities.csv\n"
     ]
    }
   ],
   "source": [
    "config = configparser.ConfigParser()\n",
    "config.sections()\n",
    "config.read('config.ini')\n",
    "input_file=config['DEFAULT']['input_file']\n",
    "print ('Input file:', input_file)"
   ]
  },
  {
   "cell_type": "code",
   "execution_count": 71,
   "metadata": {},
   "outputs": [],
   "source": [
    "df_input_file=pd.read_csv(input_file, header=None, delimiter='|', names = [\"orcid\", \"relation_type\", \"name\", \"source\", \"identifier\", \"file_name\"])"
   ]
  },
  {
   "cell_type": "code",
   "execution_count": 72,
   "metadata": {},
   "outputs": [
    {
     "data": {
      "text/html": [
       "<div>\n",
       "<style>\n",
       "    .dataframe thead tr:only-child th {\n",
       "        text-align: right;\n",
       "    }\n",
       "\n",
       "    .dataframe thead th {\n",
       "        text-align: left;\n",
       "    }\n",
       "\n",
       "    .dataframe tbody tr th {\n",
       "        vertical-align: top;\n",
       "    }\n",
       "</style>\n",
       "<table border=\"1\" class=\"dataframe\">\n",
       "  <thead>\n",
       "    <tr style=\"text-align: right;\">\n",
       "      <th></th>\n",
       "      <th>orcid</th>\n",
       "      <th>relation_type</th>\n",
       "      <th>name</th>\n",
       "      <th>source</th>\n",
       "      <th>identifier</th>\n",
       "      <th>file_name</th>\n",
       "    </tr>\n",
       "  </thead>\n",
       "  <tbody>\n",
       "    <tr>\n",
       "      <th>count</th>\n",
       "      <td>1000</td>\n",
       "      <td>1000</td>\n",
       "      <td>1000</td>\n",
       "      <td>1000</td>\n",
       "      <td>1000</td>\n",
       "      <td>1000</td>\n",
       "    </tr>\n",
       "    <tr>\n",
       "      <th>unique</th>\n",
       "      <td>407</td>\n",
       "      <td>2</td>\n",
       "      <td>703</td>\n",
       "      <td>3</td>\n",
       "      <td>691</td>\n",
       "      <td>1000</td>\n",
       "    </tr>\n",
       "    <tr>\n",
       "      <th>top</th>\n",
       "      <td>0000-0001-5738-1893</td>\n",
       "      <td>educations</td>\n",
       "      <td>Universidad Central</td>\n",
       "      <td>RINGGOLD</td>\n",
       "      <td>27979</td>\n",
       "      <td>0000-0001-5123-8893_employments_4445793</td>\n",
       "    </tr>\n",
       "    <tr>\n",
       "      <th>freq</th>\n",
       "      <td>9</td>\n",
       "      <td>608</td>\n",
       "      <td>7</td>\n",
       "      <td>907</td>\n",
       "      <td>7</td>\n",
       "      <td>1</td>\n",
       "    </tr>\n",
       "  </tbody>\n",
       "</table>\n",
       "</div>"
      ],
      "text/plain": [
       "                      orcid relation_type                 name    source  \\\n",
       "count                  1000          1000                 1000      1000   \n",
       "unique                  407             2                  703         3   \n",
       "top     0000-0001-5738-1893    educations  Universidad Central  RINGGOLD   \n",
       "freq                      9           608                    7       907   \n",
       "\n",
       "       identifier                                file_name  \n",
       "count        1000                                     1000  \n",
       "unique        691                                     1000  \n",
       "top         27979  0000-0001-5123-8893_employments_4445793  \n",
       "freq            7                                        1  "
      ]
     },
     "execution_count": 72,
     "metadata": {},
     "output_type": "execute_result"
    }
   ],
   "source": [
    "df_input_file.describe()"
   ]
  },
  {
   "cell_type": "code",
   "execution_count": 73,
   "metadata": {},
   "outputs": [
    {
     "data": {
      "text/html": [
       "<div>\n",
       "<style>\n",
       "    .dataframe thead tr:only-child th {\n",
       "        text-align: right;\n",
       "    }\n",
       "\n",
       "    .dataframe thead th {\n",
       "        text-align: left;\n",
       "    }\n",
       "\n",
       "    .dataframe tbody tr th {\n",
       "        vertical-align: top;\n",
       "    }\n",
       "</style>\n",
       "<table border=\"1\" class=\"dataframe\">\n",
       "  <thead>\n",
       "    <tr style=\"text-align: right;\">\n",
       "      <th></th>\n",
       "      <th>orcid</th>\n",
       "      <th>relation_type</th>\n",
       "      <th>name</th>\n",
       "      <th>source</th>\n",
       "      <th>identifier</th>\n",
       "      <th>file_name</th>\n",
       "    </tr>\n",
       "  </thead>\n",
       "  <tbody>\n",
       "    <tr>\n",
       "      <th>0</th>\n",
       "      <td>0000-0002-1484-1893</td>\n",
       "      <td>employments</td>\n",
       "      <td>Instituto Politécnico do Porto Escola Superior...</td>\n",
       "      <td>RINGGOLD</td>\n",
       "      <td>203255</td>\n",
       "      <td>0000-0002-1484-1893_employments_5636083</td>\n",
       "    </tr>\n",
       "    <tr>\n",
       "      <th>1</th>\n",
       "      <td>0000-0002-1484-1893</td>\n",
       "      <td>educations</td>\n",
       "      <td>Universidade do Porto Faculdade de Desporto</td>\n",
       "      <td>RINGGOLD</td>\n",
       "      <td>224740</td>\n",
       "      <td>0000-0002-1484-1893_educations_5636056</td>\n",
       "    </tr>\n",
       "    <tr>\n",
       "      <th>2</th>\n",
       "      <td>0000-0002-1484-1893</td>\n",
       "      <td>educations</td>\n",
       "      <td>Universidade do Porto Faculdade de Desporto</td>\n",
       "      <td>RINGGOLD</td>\n",
       "      <td>224740</td>\n",
       "      <td>0000-0002-1484-1893_educations_5636066</td>\n",
       "    </tr>\n",
       "    <tr>\n",
       "      <th>3</th>\n",
       "      <td>0000-0002-1484-1893</td>\n",
       "      <td>educations</td>\n",
       "      <td>Instituto Politécnico do Porto Escola Superior...</td>\n",
       "      <td>RINGGOLD</td>\n",
       "      <td>203255</td>\n",
       "      <td>0000-0002-1484-1893_educations_5636079</td>\n",
       "    </tr>\n",
       "    <tr>\n",
       "      <th>4</th>\n",
       "      <td>0000-0001-5057-7893</td>\n",
       "      <td>employments</td>\n",
       "      <td>University of Oregon College of Education</td>\n",
       "      <td>RINGGOLD</td>\n",
       "      <td>143853</td>\n",
       "      <td>0000-0001-5057-7893_employments_64516</td>\n",
       "    </tr>\n",
       "  </tbody>\n",
       "</table>\n",
       "</div>"
      ],
      "text/plain": [
       "                 orcid relation_type  \\\n",
       "0  0000-0002-1484-1893   employments   \n",
       "1  0000-0002-1484-1893    educations   \n",
       "2  0000-0002-1484-1893    educations   \n",
       "3  0000-0002-1484-1893    educations   \n",
       "4  0000-0001-5057-7893   employments   \n",
       "\n",
       "                                                name    source identifier  \\\n",
       "0  Instituto Politécnico do Porto Escola Superior...  RINGGOLD     203255   \n",
       "1        Universidade do Porto Faculdade de Desporto  RINGGOLD     224740   \n",
       "2        Universidade do Porto Faculdade de Desporto  RINGGOLD     224740   \n",
       "3  Instituto Politécnico do Porto Escola Superior...  RINGGOLD     203255   \n",
       "4          University of Oregon College of Education  RINGGOLD     143853   \n",
       "\n",
       "                                 file_name  \n",
       "0  0000-0002-1484-1893_employments_5636083  \n",
       "1   0000-0002-1484-1893_educations_5636056  \n",
       "2   0000-0002-1484-1893_educations_5636066  \n",
       "3   0000-0002-1484-1893_educations_5636079  \n",
       "4    0000-0001-5057-7893_employments_64516  "
      ]
     },
     "execution_count": 73,
     "metadata": {},
     "output_type": "execute_result"
    }
   ],
   "source": [
    "df_input_file.head()"
   ]
  },
  {
   "cell_type": "code",
   "execution_count": 74,
   "metadata": {},
   "outputs": [
    {
     "data": {
      "text/plain": [
       "source\n",
       "FUNDREF      32\n",
       "GRID         61\n",
       "RINGGOLD    907\n",
       "Name: orcid, dtype: int64"
      ]
     },
     "execution_count": 74,
     "metadata": {},
     "output_type": "execute_result"
    }
   ],
   "source": [
    "# Number of org IDs per source\n",
    "df=df_input_file.groupby('source')['orcid'].count()\n",
    "df"
   ]
  },
  {
   "cell_type": "code",
   "execution_count": 75,
   "metadata": {},
   "outputs": [
    {
     "data": {
      "text/plain": [
       "source\n",
       "FUNDREF      23\n",
       "GRID         45\n",
       "RINGGOLD    623\n",
       "Name: identifier, dtype: int64"
      ]
     },
     "execution_count": 75,
     "metadata": {},
     "output_type": "execute_result"
    }
   ],
   "source": [
    "# Number of unique org IDs per source\n",
    "df=df_input_file.groupby('source')['identifier'].nunique()\n",
    "df"
   ]
  },
  {
   "cell_type": "code",
   "execution_count": 76,
   "metadata": {},
   "outputs": [
    {
     "data": {
      "text/plain": [
       "source\n",
       "FUNDREF      23\n",
       "GRID         45\n",
       "RINGGOLD    636\n",
       "Name: name, dtype: int64"
      ]
     },
     "execution_count": 76,
     "metadata": {},
     "output_type": "execute_result"
    }
   ],
   "source": [
    "# Number of unique org name per source\n",
    "df=df_input_file.groupby('source')['name'].nunique()\n",
    "df"
   ]
  },
  {
   "cell_type": "markdown",
   "metadata": {},
   "source": [
    "# Create nodes_orcid_ringgold.csv"
   ]
  },
  {
   "cell_type": "code",
   "execution_count": 79,
   "metadata": {},
   "outputs": [
    {
     "data": {
      "text/html": [
       "<div>\n",
       "<style>\n",
       "    .dataframe thead tr:only-child th {\n",
       "        text-align: right;\n",
       "    }\n",
       "\n",
       "    .dataframe thead th {\n",
       "        text-align: left;\n",
       "    }\n",
       "\n",
       "    .dataframe tbody tr th {\n",
       "        vertical-align: top;\n",
       "    }\n",
       "</style>\n",
       "<table border=\"1\" class=\"dataframe\">\n",
       "  <thead>\n",
       "    <tr style=\"text-align: right;\">\n",
       "      <th></th>\n",
       "      <th>orcid</th>\n",
       "      <th>relation_type</th>\n",
       "      <th>name</th>\n",
       "      <th>source</th>\n",
       "      <th>identifier</th>\n",
       "      <th>file_name</th>\n",
       "    </tr>\n",
       "  </thead>\n",
       "  <tbody>\n",
       "    <tr>\n",
       "      <th>0</th>\n",
       "      <td>0000-0002-1484-1893</td>\n",
       "      <td>employments</td>\n",
       "      <td>Instituto Politécnico do Porto Escola Superior...</td>\n",
       "      <td>RINGGOLD</td>\n",
       "      <td>203255</td>\n",
       "      <td>0000-0002-1484-1893_employments_5636083</td>\n",
       "    </tr>\n",
       "    <tr>\n",
       "      <th>1</th>\n",
       "      <td>0000-0002-1484-1893</td>\n",
       "      <td>educations</td>\n",
       "      <td>Universidade do Porto Faculdade de Desporto</td>\n",
       "      <td>RINGGOLD</td>\n",
       "      <td>224740</td>\n",
       "      <td>0000-0002-1484-1893_educations_5636056</td>\n",
       "    </tr>\n",
       "    <tr>\n",
       "      <th>2</th>\n",
       "      <td>0000-0002-1484-1893</td>\n",
       "      <td>educations</td>\n",
       "      <td>Universidade do Porto Faculdade de Desporto</td>\n",
       "      <td>RINGGOLD</td>\n",
       "      <td>224740</td>\n",
       "      <td>0000-0002-1484-1893_educations_5636066</td>\n",
       "    </tr>\n",
       "    <tr>\n",
       "      <th>3</th>\n",
       "      <td>0000-0002-1484-1893</td>\n",
       "      <td>educations</td>\n",
       "      <td>Instituto Politécnico do Porto Escola Superior...</td>\n",
       "      <td>RINGGOLD</td>\n",
       "      <td>203255</td>\n",
       "      <td>0000-0002-1484-1893_educations_5636079</td>\n",
       "    </tr>\n",
       "    <tr>\n",
       "      <th>4</th>\n",
       "      <td>0000-0001-5057-7893</td>\n",
       "      <td>employments</td>\n",
       "      <td>University of Oregon College of Education</td>\n",
       "      <td>RINGGOLD</td>\n",
       "      <td>143853</td>\n",
       "      <td>0000-0001-5057-7893_employments_64516</td>\n",
       "    </tr>\n",
       "  </tbody>\n",
       "</table>\n",
       "</div>"
      ],
      "text/plain": [
       "                 orcid relation_type  \\\n",
       "0  0000-0002-1484-1893   employments   \n",
       "1  0000-0002-1484-1893    educations   \n",
       "2  0000-0002-1484-1893    educations   \n",
       "3  0000-0002-1484-1893    educations   \n",
       "4  0000-0001-5057-7893   employments   \n",
       "\n",
       "                                                name    source identifier  \\\n",
       "0  Instituto Politécnico do Porto Escola Superior...  RINGGOLD     203255   \n",
       "1        Universidade do Porto Faculdade de Desporto  RINGGOLD     224740   \n",
       "2        Universidade do Porto Faculdade de Desporto  RINGGOLD     224740   \n",
       "3  Instituto Politécnico do Porto Escola Superior...  RINGGOLD     203255   \n",
       "4          University of Oregon College of Education  RINGGOLD     143853   \n",
       "\n",
       "                                 file_name  \n",
       "0  0000-0002-1484-1893_employments_5636083  \n",
       "1   0000-0002-1484-1893_educations_5636056  \n",
       "2   0000-0002-1484-1893_educations_5636066  \n",
       "3   0000-0002-1484-1893_educations_5636079  \n",
       "4    0000-0001-5057-7893_employments_64516  "
      ]
     },
     "execution_count": 79,
     "metadata": {},
     "output_type": "execute_result"
    }
   ],
   "source": [
    "df_ringgold = df_input_file[df_input_file['source']=='RINGGOLD']\n",
    "df_ringgold.head()"
   ]
  },
  {
   "cell_type": "code",
   "execution_count": 82,
   "metadata": {},
   "outputs": [
    {
     "data": {
      "text/html": [
       "<div>\n",
       "<style>\n",
       "    .dataframe thead tr:only-child th {\n",
       "        text-align: right;\n",
       "    }\n",
       "\n",
       "    .dataframe thead th {\n",
       "        text-align: left;\n",
       "    }\n",
       "\n",
       "    .dataframe tbody tr th {\n",
       "        vertical-align: top;\n",
       "    }\n",
       "</style>\n",
       "<table border=\"1\" class=\"dataframe\">\n",
       "  <thead>\n",
       "    <tr style=\"text-align: right;\">\n",
       "      <th></th>\n",
       "      <th>name</th>\n",
       "      <th>source</th>\n",
       "      <th>identifier</th>\n",
       "    </tr>\n",
       "  </thead>\n",
       "  <tbody>\n",
       "    <tr>\n",
       "      <th>0</th>\n",
       "      <td>Instituto Politécnico do Porto Escola Superior...</td>\n",
       "      <td>RINGGOLD</td>\n",
       "      <td>203255</td>\n",
       "    </tr>\n",
       "    <tr>\n",
       "      <th>1</th>\n",
       "      <td>Universidade do Porto Faculdade de Desporto</td>\n",
       "      <td>RINGGOLD</td>\n",
       "      <td>224740</td>\n",
       "    </tr>\n",
       "    <tr>\n",
       "      <th>3</th>\n",
       "      <td>Instituto Politécnico do Porto Escola Superior...</td>\n",
       "      <td>RINGGOLD</td>\n",
       "      <td>203255</td>\n",
       "    </tr>\n",
       "    <tr>\n",
       "      <th>4</th>\n",
       "      <td>University of Oregon College of Education</td>\n",
       "      <td>RINGGOLD</td>\n",
       "      <td>143853</td>\n",
       "    </tr>\n",
       "    <tr>\n",
       "      <th>8</th>\n",
       "      <td>Nanjing University</td>\n",
       "      <td>RINGGOLD</td>\n",
       "      <td>12581</td>\n",
       "    </tr>\n",
       "  </tbody>\n",
       "</table>\n",
       "</div>"
      ],
      "text/plain": [
       "                                                name    source identifier\n",
       "0  Instituto Politécnico do Porto Escola Superior...  RINGGOLD     203255\n",
       "1        Universidade do Porto Faculdade de Desporto  RINGGOLD     224740\n",
       "3  Instituto Politécnico do Porto Escola Superior...  RINGGOLD     203255\n",
       "4          University of Oregon College of Education  RINGGOLD     143853\n",
       "8                                 Nanjing University  RINGGOLD      12581"
      ]
     },
     "execution_count": 82,
     "metadata": {},
     "output_type": "execute_result"
    }
   ],
   "source": [
    "#Select only three columns that we need.\n",
    "df_ringgold = df_ringgold[['name','source','identifier']]\n",
    "df_ringgold.head()"
   ]
  },
  {
   "cell_type": "code",
   "execution_count": 83,
   "metadata": {},
   "outputs": [
    {
     "data": {
      "text/html": [
       "<div>\n",
       "<style>\n",
       "    .dataframe thead tr:only-child th {\n",
       "        text-align: right;\n",
       "    }\n",
       "\n",
       "    .dataframe thead th {\n",
       "        text-align: left;\n",
       "    }\n",
       "\n",
       "    .dataframe tbody tr th {\n",
       "        vertical-align: top;\n",
       "    }\n",
       "</style>\n",
       "<table border=\"1\" class=\"dataframe\">\n",
       "  <thead>\n",
       "    <tr style=\"text-align: right;\">\n",
       "      <th></th>\n",
       "      <th>name</th>\n",
       "      <th>source</th>\n",
       "      <th>identifier</th>\n",
       "    </tr>\n",
       "  </thead>\n",
       "  <tbody>\n",
       "    <tr>\n",
       "      <th>0</th>\n",
       "      <td>Instituto Politécnico do Porto Escola Superior...</td>\n",
       "      <td>RINGGOLD</td>\n",
       "      <td>203255</td>\n",
       "    </tr>\n",
       "    <tr>\n",
       "      <th>1</th>\n",
       "      <td>Universidade do Porto Faculdade de Desporto</td>\n",
       "      <td>RINGGOLD</td>\n",
       "      <td>224740</td>\n",
       "    </tr>\n",
       "    <tr>\n",
       "      <th>3</th>\n",
       "      <td>Instituto Politécnico do Porto Escola Superior...</td>\n",
       "      <td>RINGGOLD</td>\n",
       "      <td>203255</td>\n",
       "    </tr>\n",
       "    <tr>\n",
       "      <th>4</th>\n",
       "      <td>University of Oregon College of Education</td>\n",
       "      <td>RINGGOLD</td>\n",
       "      <td>143853</td>\n",
       "    </tr>\n",
       "    <tr>\n",
       "      <th>8</th>\n",
       "      <td>Nanjing University</td>\n",
       "      <td>RINGGOLD</td>\n",
       "      <td>12581</td>\n",
       "    </tr>\n",
       "  </tbody>\n",
       "</table>\n",
       "</div>"
      ],
      "text/plain": [
       "                                                name    source identifier\n",
       "0  Instituto Politécnico do Porto Escola Superior...  RINGGOLD     203255\n",
       "1        Universidade do Porto Faculdade de Desporto  RINGGOLD     224740\n",
       "3  Instituto Politécnico do Porto Escola Superior...  RINGGOLD     203255\n",
       "4          University of Oregon College of Education  RINGGOLD     143853\n",
       "8                                 Nanjing University  RINGGOLD      12581"
      ]
     },
     "execution_count": 83,
     "metadata": {},
     "output_type": "execute_result"
    }
   ],
   "source": [
    "# Remove any duplicate rows except the first one.\n",
    "df_ringgold=df_ringgold.drop_duplicates(keep='first')\n",
    "df_ringgold.head()"
   ]
  },
  {
   "cell_type": "code",
   "execution_count": 96,
   "metadata": {},
   "outputs": [
    {
     "data": {
      "text/html": [
       "<div>\n",
       "<style>\n",
       "    .dataframe thead tr:only-child th {\n",
       "        text-align: right;\n",
       "    }\n",
       "\n",
       "    .dataframe thead th {\n",
       "        text-align: left;\n",
       "    }\n",
       "\n",
       "    .dataframe tbody tr th {\n",
       "        vertical-align: top;\n",
       "    }\n",
       "</style>\n",
       "<table border=\"1\" class=\"dataframe\">\n",
       "  <thead>\n",
       "    <tr style=\"text-align: right;\">\n",
       "      <th></th>\n",
       "      <th>name</th>\n",
       "      <th>source</th>\n",
       "      <th>identifier</th>\n",
       "      <th>key</th>\n",
       "      <th>last_updated</th>\n",
       "      <th>local_id</th>\n",
       "      <th>ringgold</th>\n",
       "    </tr>\n",
       "  </thead>\n",
       "  <tbody>\n",
       "    <tr>\n",
       "      <th>0</th>\n",
       "      <td>Instituto Politécnico do Porto Escola Superior...</td>\n",
       "      <td>orcid.org</td>\n",
       "      <td>203255</td>\n",
       "      <td>researchgraph.org/ringgold/203255</td>\n",
       "      <td>2018-12-30 19:58:56.945229</td>\n",
       "      <td>203255</td>\n",
       "      <td>203255</td>\n",
       "    </tr>\n",
       "    <tr>\n",
       "      <th>1</th>\n",
       "      <td>Universidade do Porto Faculdade de Desporto</td>\n",
       "      <td>orcid.org</td>\n",
       "      <td>224740</td>\n",
       "      <td>researchgraph.org/ringgold/224740</td>\n",
       "      <td>2018-12-30 19:58:56.945229</td>\n",
       "      <td>224740</td>\n",
       "      <td>224740</td>\n",
       "    </tr>\n",
       "    <tr>\n",
       "      <th>3</th>\n",
       "      <td>Instituto Politécnico do Porto Escola Superior...</td>\n",
       "      <td>orcid.org</td>\n",
       "      <td>203255</td>\n",
       "      <td>researchgraph.org/ringgold/203255</td>\n",
       "      <td>2018-12-30 19:58:56.945229</td>\n",
       "      <td>203255</td>\n",
       "      <td>203255</td>\n",
       "    </tr>\n",
       "    <tr>\n",
       "      <th>4</th>\n",
       "      <td>University of Oregon College of Education</td>\n",
       "      <td>orcid.org</td>\n",
       "      <td>143853</td>\n",
       "      <td>researchgraph.org/ringgold/143853</td>\n",
       "      <td>2018-12-30 19:58:56.945229</td>\n",
       "      <td>143853</td>\n",
       "      <td>143853</td>\n",
       "    </tr>\n",
       "    <tr>\n",
       "      <th>8</th>\n",
       "      <td>Nanjing University</td>\n",
       "      <td>orcid.org</td>\n",
       "      <td>12581</td>\n",
       "      <td>researchgraph.org/ringgold/12581</td>\n",
       "      <td>2018-12-30 19:58:56.945229</td>\n",
       "      <td>12581</td>\n",
       "      <td>12581</td>\n",
       "    </tr>\n",
       "  </tbody>\n",
       "</table>\n",
       "</div>"
      ],
      "text/plain": [
       "                                                name     source identifier  \\\n",
       "0  Instituto Politécnico do Porto Escola Superior...  orcid.org     203255   \n",
       "1        Universidade do Porto Faculdade de Desporto  orcid.org     224740   \n",
       "3  Instituto Politécnico do Porto Escola Superior...  orcid.org     203255   \n",
       "4          University of Oregon College of Education  orcid.org     143853   \n",
       "8                                 Nanjing University  orcid.org      12581   \n",
       "\n",
       "                                 key               last_updated local_id  \\\n",
       "0  researchgraph.org/ringgold/203255 2018-12-30 19:58:56.945229   203255   \n",
       "1  researchgraph.org/ringgold/224740 2018-12-30 19:58:56.945229   224740   \n",
       "3  researchgraph.org/ringgold/203255 2018-12-30 19:58:56.945229   203255   \n",
       "4  researchgraph.org/ringgold/143853 2018-12-30 19:58:56.945229   143853   \n",
       "8   researchgraph.org/ringgold/12581 2018-12-30 19:58:56.945229    12581   \n",
       "\n",
       "  ringgold  \n",
       "0   203255  \n",
       "1   224740  \n",
       "3   203255  \n",
       "4   143853  \n",
       "8    12581  "
      ]
     },
     "execution_count": 96,
     "metadata": {},
     "output_type": "execute_result"
    }
   ],
   "source": [
    "df_ringgold['key']='researchgraph.org/ringgold/'+df_ringgold['identifier']\n",
    "df_ringgold['source']='orcid.org'\n",
    "df_ringgold['local_id']=df_ringgold['identifier']\n",
    "df_ringgold['ringgold']=df_ringgold['identifier']\n",
    "df_ringgold['last_updated']= now\n",
    "df_ringgold.head()"
   ]
  },
  {
   "cell_type": "code",
   "execution_count": 98,
   "metadata": {},
   "outputs": [],
   "source": [
    "df_ringgold.to_csv('nodes_orcid_ringgold.csv', index=False, columns=['key','source','local_id','name', 'ringgold'], sep=\"|\")"
   ]
  },
  {
   "cell_type": "code",
   "execution_count": null,
   "metadata": {
    "collapsed": true
   },
   "outputs": [],
   "source": []
  }
 ],
 "metadata": {
  "kernelspec": {
   "display_name": "Python 3",
   "language": "python",
   "name": "python3"
  },
  "language_info": {
   "codemirror_mode": {
    "name": "ipython",
    "version": 3
   },
   "file_extension": ".py",
   "mimetype": "text/x-python",
   "name": "python",
   "nbconvert_exporter": "python",
   "pygments_lexer": "ipython3",
   "version": "3.6.3"
  }
 },
 "nbformat": 4,
 "nbformat_minor": 2
}
