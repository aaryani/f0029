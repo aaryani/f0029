{
 "cells": [
  {
   "cell_type": "code",
   "execution_count": 587,
   "metadata": {},
   "outputs": [
    {
     "name": "stdout",
     "output_type": "stream",
     "text": [
      "2018-12-31 00:56\n"
     ]
    }
   ],
   "source": [
    "import argparse\n",
    "import os.path\n",
    "import time\n",
    "import pandas as pd\n",
    "pd.options.mode.chained_assignment = None \n",
    "import datetime\n",
    "import configparser \n",
    "now = datetime.datetime.now().strftime(\"%Y-%m-%d %H:%M\")\n",
    "print (now)"
   ]
  },
  {
   "cell_type": "markdown",
   "metadata": {},
   "source": [
    "# Load Input CSV file\n",
    "---"
   ]
  },
  {
   "cell_type": "code",
   "execution_count": 588,
   "metadata": {},
   "outputs": [
    {
     "name": "stdout",
     "output_type": "stream",
     "text": [
      "Input file: sample-imput/activities.csv\n"
     ]
    }
   ],
   "source": [
    "config = configparser.ConfigParser()\n",
    "config.sections()\n",
    "config.read('config.ini')\n",
    "input_file=config['DEFAULT']['input_file']\n",
    "print ('Input file:', input_file)"
   ]
  },
  {
   "cell_type": "code",
   "execution_count": 589,
   "metadata": {},
   "outputs": [],
   "source": [
    "df_input_file=pd.read_csv(input_file, header=None, delimiter='|', names = [\"orcid\", \"relation_type\", \"name\", \"source\", \"identifier\", \"file_name\"])"
   ]
  },
  {
   "cell_type": "code",
   "execution_count": 590,
   "metadata": {},
   "outputs": [
    {
     "data": {
      "text/html": [
       "<div>\n",
       "<style>\n",
       "    .dataframe thead tr:only-child th {\n",
       "        text-align: right;\n",
       "    }\n",
       "\n",
       "    .dataframe thead th {\n",
       "        text-align: left;\n",
       "    }\n",
       "\n",
       "    .dataframe tbody tr th {\n",
       "        vertical-align: top;\n",
       "    }\n",
       "</style>\n",
       "<table border=\"1\" class=\"dataframe\">\n",
       "  <thead>\n",
       "    <tr style=\"text-align: right;\">\n",
       "      <th></th>\n",
       "      <th>orcid</th>\n",
       "      <th>relation_type</th>\n",
       "      <th>name</th>\n",
       "      <th>source</th>\n",
       "      <th>identifier</th>\n",
       "      <th>file_name</th>\n",
       "    </tr>\n",
       "  </thead>\n",
       "  <tbody>\n",
       "    <tr>\n",
       "      <th>0</th>\n",
       "      <td>0000-0002-1484-1893</td>\n",
       "      <td>employments</td>\n",
       "      <td>Instituto Politécnico do Porto Escola Superior...</td>\n",
       "      <td>RINGGOLD</td>\n",
       "      <td>203255</td>\n",
       "      <td>0000-0002-1484-1893_employments_5636083</td>\n",
       "    </tr>\n",
       "    <tr>\n",
       "      <th>1</th>\n",
       "      <td>0000-0002-1484-1893</td>\n",
       "      <td>educations</td>\n",
       "      <td>Universidade do Porto Faculdade de Desporto</td>\n",
       "      <td>RINGGOLD</td>\n",
       "      <td>224740</td>\n",
       "      <td>0000-0002-1484-1893_educations_5636056</td>\n",
       "    </tr>\n",
       "    <tr>\n",
       "      <th>2</th>\n",
       "      <td>0000-0002-1484-1893</td>\n",
       "      <td>educations</td>\n",
       "      <td>Universidade do Porto Faculdade de Desporto</td>\n",
       "      <td>RINGGOLD</td>\n",
       "      <td>224740</td>\n",
       "      <td>0000-0002-1484-1893_educations_5636066</td>\n",
       "    </tr>\n",
       "    <tr>\n",
       "      <th>3</th>\n",
       "      <td>0000-0002-1484-1893</td>\n",
       "      <td>educations</td>\n",
       "      <td>Instituto Politécnico do Porto Escola Superior...</td>\n",
       "      <td>RINGGOLD</td>\n",
       "      <td>203255</td>\n",
       "      <td>0000-0002-1484-1893_educations_5636079</td>\n",
       "    </tr>\n",
       "    <tr>\n",
       "      <th>4</th>\n",
       "      <td>0000-0001-5057-7893</td>\n",
       "      <td>employments</td>\n",
       "      <td>University of Oregon College of Education</td>\n",
       "      <td>RINGGOLD</td>\n",
       "      <td>143853</td>\n",
       "      <td>0000-0001-5057-7893_employments_64516</td>\n",
       "    </tr>\n",
       "  </tbody>\n",
       "</table>\n",
       "</div>"
      ],
      "text/plain": [
       "                 orcid relation_type  \\\n",
       "0  0000-0002-1484-1893   employments   \n",
       "1  0000-0002-1484-1893    educations   \n",
       "2  0000-0002-1484-1893    educations   \n",
       "3  0000-0002-1484-1893    educations   \n",
       "4  0000-0001-5057-7893   employments   \n",
       "\n",
       "                                                name    source identifier  \\\n",
       "0  Instituto Politécnico do Porto Escola Superior...  RINGGOLD     203255   \n",
       "1        Universidade do Porto Faculdade de Desporto  RINGGOLD     224740   \n",
       "2        Universidade do Porto Faculdade de Desporto  RINGGOLD     224740   \n",
       "3  Instituto Politécnico do Porto Escola Superior...  RINGGOLD     203255   \n",
       "4          University of Oregon College of Education  RINGGOLD     143853   \n",
       "\n",
       "                                 file_name  \n",
       "0  0000-0002-1484-1893_employments_5636083  \n",
       "1   0000-0002-1484-1893_educations_5636056  \n",
       "2   0000-0002-1484-1893_educations_5636066  \n",
       "3   0000-0002-1484-1893_educations_5636079  \n",
       "4    0000-0001-5057-7893_employments_64516  "
      ]
     },
     "execution_count": 590,
     "metadata": {},
     "output_type": "execute_result"
    }
   ],
   "source": [
    "df_input_file.head()"
   ]
  },
  {
   "cell_type": "markdown",
   "metadata": {},
   "source": [
    "### Check the sources"
   ]
  },
  {
   "cell_type": "code",
   "execution_count": 591,
   "metadata": {},
   "outputs": [],
   "source": [
    "# Raise error if there are new identifier types\n",
    "array_acceptable_sources=['RINGGOLD', 'GRID','FUNDREF']\n",
    "if not set(df_input_file.source.unique()).issubset(array_acceptable_sources):\n",
    "    odd_item= set(df_input_file.source.unique()).difference(array_acceptable_sources)\n",
    "    error_message='Unknown Source Type: {} '.format(odd_item)\n",
    "    raise TypeError(error_message)"
   ]
  },
  {
   "cell_type": "code",
   "execution_count": 592,
   "metadata": {},
   "outputs": [
    {
     "data": {
      "text/plain": [
       "source\n",
       "FUNDREF      32\n",
       "GRID         61\n",
       "RINGGOLD    907\n",
       "Name: orcid, dtype: int64"
      ]
     },
     "execution_count": 592,
     "metadata": {},
     "output_type": "execute_result"
    }
   ],
   "source": [
    "# Number of org IDs per source\n",
    "df=df_input_file.groupby('source')['orcid'].count()\n",
    "df"
   ]
  },
  {
   "cell_type": "code",
   "execution_count": 593,
   "metadata": {},
   "outputs": [
    {
     "data": {
      "text/plain": [
       "source\n",
       "FUNDREF      23\n",
       "GRID         45\n",
       "RINGGOLD    623\n",
       "Name: identifier, dtype: int64"
      ]
     },
     "execution_count": 593,
     "metadata": {},
     "output_type": "execute_result"
    }
   ],
   "source": [
    "# Number of unique org IDs per source\n",
    "df=df_input_file.groupby('source')['identifier'].nunique()\n",
    "df"
   ]
  },
  {
   "cell_type": "code",
   "execution_count": 594,
   "metadata": {},
   "outputs": [
    {
     "data": {
      "text/plain": [
       "source\n",
       "FUNDREF      23\n",
       "GRID         45\n",
       "RINGGOLD    636\n",
       "Name: name, dtype: int64"
      ]
     },
     "execution_count": 594,
     "metadata": {},
     "output_type": "execute_result"
    }
   ],
   "source": [
    "# Number of unique org name per source\n",
    "df=df_input_file.groupby('source')['name'].nunique()\n",
    "df"
   ]
  },
  {
   "cell_type": "markdown",
   "metadata": {},
   "source": [
    "# Create nodes_orcid_ringgold.csv\n",
    "---"
   ]
  },
  {
   "cell_type": "code",
   "execution_count": 595,
   "metadata": {
    "scrolled": true
   },
   "outputs": [
    {
     "data": {
      "text/html": [
       "<div>\n",
       "<style>\n",
       "    .dataframe thead tr:only-child th {\n",
       "        text-align: right;\n",
       "    }\n",
       "\n",
       "    .dataframe thead th {\n",
       "        text-align: left;\n",
       "    }\n",
       "\n",
       "    .dataframe tbody tr th {\n",
       "        vertical-align: top;\n",
       "    }\n",
       "</style>\n",
       "<table border=\"1\" class=\"dataframe\">\n",
       "  <thead>\n",
       "    <tr style=\"text-align: right;\">\n",
       "      <th></th>\n",
       "      <th>orcid</th>\n",
       "      <th>relation_type</th>\n",
       "      <th>name</th>\n",
       "      <th>source</th>\n",
       "      <th>identifier</th>\n",
       "      <th>file_name</th>\n",
       "    </tr>\n",
       "  </thead>\n",
       "  <tbody>\n",
       "    <tr>\n",
       "      <th>0</th>\n",
       "      <td>0000-0002-1484-1893</td>\n",
       "      <td>employments</td>\n",
       "      <td>Instituto Politécnico do Porto Escola Superior...</td>\n",
       "      <td>RINGGOLD</td>\n",
       "      <td>203255</td>\n",
       "      <td>0000-0002-1484-1893_employments_5636083</td>\n",
       "    </tr>\n",
       "    <tr>\n",
       "      <th>1</th>\n",
       "      <td>0000-0002-1484-1893</td>\n",
       "      <td>educations</td>\n",
       "      <td>Universidade do Porto Faculdade de Desporto</td>\n",
       "      <td>RINGGOLD</td>\n",
       "      <td>224740</td>\n",
       "      <td>0000-0002-1484-1893_educations_5636056</td>\n",
       "    </tr>\n",
       "    <tr>\n",
       "      <th>2</th>\n",
       "      <td>0000-0002-1484-1893</td>\n",
       "      <td>educations</td>\n",
       "      <td>Universidade do Porto Faculdade de Desporto</td>\n",
       "      <td>RINGGOLD</td>\n",
       "      <td>224740</td>\n",
       "      <td>0000-0002-1484-1893_educations_5636066</td>\n",
       "    </tr>\n",
       "    <tr>\n",
       "      <th>3</th>\n",
       "      <td>0000-0002-1484-1893</td>\n",
       "      <td>educations</td>\n",
       "      <td>Instituto Politécnico do Porto Escola Superior...</td>\n",
       "      <td>RINGGOLD</td>\n",
       "      <td>203255</td>\n",
       "      <td>0000-0002-1484-1893_educations_5636079</td>\n",
       "    </tr>\n",
       "    <tr>\n",
       "      <th>4</th>\n",
       "      <td>0000-0001-5057-7893</td>\n",
       "      <td>employments</td>\n",
       "      <td>University of Oregon College of Education</td>\n",
       "      <td>RINGGOLD</td>\n",
       "      <td>143853</td>\n",
       "      <td>0000-0001-5057-7893_employments_64516</td>\n",
       "    </tr>\n",
       "  </tbody>\n",
       "</table>\n",
       "</div>"
      ],
      "text/plain": [
       "                 orcid relation_type  \\\n",
       "0  0000-0002-1484-1893   employments   \n",
       "1  0000-0002-1484-1893    educations   \n",
       "2  0000-0002-1484-1893    educations   \n",
       "3  0000-0002-1484-1893    educations   \n",
       "4  0000-0001-5057-7893   employments   \n",
       "\n",
       "                                                name    source identifier  \\\n",
       "0  Instituto Politécnico do Porto Escola Superior...  RINGGOLD     203255   \n",
       "1        Universidade do Porto Faculdade de Desporto  RINGGOLD     224740   \n",
       "2        Universidade do Porto Faculdade de Desporto  RINGGOLD     224740   \n",
       "3  Instituto Politécnico do Porto Escola Superior...  RINGGOLD     203255   \n",
       "4          University of Oregon College of Education  RINGGOLD     143853   \n",
       "\n",
       "                                 file_name  \n",
       "0  0000-0002-1484-1893_employments_5636083  \n",
       "1   0000-0002-1484-1893_educations_5636056  \n",
       "2   0000-0002-1484-1893_educations_5636066  \n",
       "3   0000-0002-1484-1893_educations_5636079  \n",
       "4    0000-0001-5057-7893_employments_64516  "
      ]
     },
     "execution_count": 595,
     "metadata": {},
     "output_type": "execute_result"
    }
   ],
   "source": [
    "df_ringgold = df_input_file[df_input_file['source']=='RINGGOLD']\n",
    "df_ringgold.head()"
   ]
  },
  {
   "cell_type": "code",
   "execution_count": 596,
   "metadata": {},
   "outputs": [
    {
     "data": {
      "text/html": [
       "<div>\n",
       "<style>\n",
       "    .dataframe thead tr:only-child th {\n",
       "        text-align: right;\n",
       "    }\n",
       "\n",
       "    .dataframe thead th {\n",
       "        text-align: left;\n",
       "    }\n",
       "\n",
       "    .dataframe tbody tr th {\n",
       "        vertical-align: top;\n",
       "    }\n",
       "</style>\n",
       "<table border=\"1\" class=\"dataframe\">\n",
       "  <thead>\n",
       "    <tr style=\"text-align: right;\">\n",
       "      <th></th>\n",
       "      <th>name</th>\n",
       "      <th>source</th>\n",
       "      <th>identifier</th>\n",
       "    </tr>\n",
       "  </thead>\n",
       "  <tbody>\n",
       "    <tr>\n",
       "      <th>0</th>\n",
       "      <td>Instituto Politécnico do Porto Escola Superior...</td>\n",
       "      <td>RINGGOLD</td>\n",
       "      <td>203255</td>\n",
       "    </tr>\n",
       "    <tr>\n",
       "      <th>1</th>\n",
       "      <td>Universidade do Porto Faculdade de Desporto</td>\n",
       "      <td>RINGGOLD</td>\n",
       "      <td>224740</td>\n",
       "    </tr>\n",
       "    <tr>\n",
       "      <th>2</th>\n",
       "      <td>Universidade do Porto Faculdade de Desporto</td>\n",
       "      <td>RINGGOLD</td>\n",
       "      <td>224740</td>\n",
       "    </tr>\n",
       "    <tr>\n",
       "      <th>3</th>\n",
       "      <td>Instituto Politécnico do Porto Escola Superior...</td>\n",
       "      <td>RINGGOLD</td>\n",
       "      <td>203255</td>\n",
       "    </tr>\n",
       "    <tr>\n",
       "      <th>4</th>\n",
       "      <td>University of Oregon College of Education</td>\n",
       "      <td>RINGGOLD</td>\n",
       "      <td>143853</td>\n",
       "    </tr>\n",
       "  </tbody>\n",
       "</table>\n",
       "</div>"
      ],
      "text/plain": [
       "                                                name    source identifier\n",
       "0  Instituto Politécnico do Porto Escola Superior...  RINGGOLD     203255\n",
       "1        Universidade do Porto Faculdade de Desporto  RINGGOLD     224740\n",
       "2        Universidade do Porto Faculdade de Desporto  RINGGOLD     224740\n",
       "3  Instituto Politécnico do Porto Escola Superior...  RINGGOLD     203255\n",
       "4          University of Oregon College of Education  RINGGOLD     143853"
      ]
     },
     "execution_count": 596,
     "metadata": {},
     "output_type": "execute_result"
    }
   ],
   "source": [
    "#Select only three columns that we need.\n",
    "df_ringgold = df_ringgold[['name','source','identifier']]\n",
    "df_ringgold.head()"
   ]
  },
  {
   "cell_type": "code",
   "execution_count": 597,
   "metadata": {},
   "outputs": [
    {
     "data": {
      "text/html": [
       "<div>\n",
       "<style>\n",
       "    .dataframe thead tr:only-child th {\n",
       "        text-align: right;\n",
       "    }\n",
       "\n",
       "    .dataframe thead th {\n",
       "        text-align: left;\n",
       "    }\n",
       "\n",
       "    .dataframe tbody tr th {\n",
       "        vertical-align: top;\n",
       "    }\n",
       "</style>\n",
       "<table border=\"1\" class=\"dataframe\">\n",
       "  <thead>\n",
       "    <tr style=\"text-align: right;\">\n",
       "      <th></th>\n",
       "      <th>name</th>\n",
       "      <th>source</th>\n",
       "      <th>identifier</th>\n",
       "    </tr>\n",
       "  </thead>\n",
       "  <tbody>\n",
       "    <tr>\n",
       "      <th>0</th>\n",
       "      <td>Instituto Politécnico do Porto Escola Superior...</td>\n",
       "      <td>RINGGOLD</td>\n",
       "      <td>203255</td>\n",
       "    </tr>\n",
       "    <tr>\n",
       "      <th>1</th>\n",
       "      <td>Universidade do Porto Faculdade de Desporto</td>\n",
       "      <td>RINGGOLD</td>\n",
       "      <td>224740</td>\n",
       "    </tr>\n",
       "    <tr>\n",
       "      <th>3</th>\n",
       "      <td>Instituto Politécnico do Porto Escola Superior...</td>\n",
       "      <td>RINGGOLD</td>\n",
       "      <td>203255</td>\n",
       "    </tr>\n",
       "    <tr>\n",
       "      <th>4</th>\n",
       "      <td>University of Oregon College of Education</td>\n",
       "      <td>RINGGOLD</td>\n",
       "      <td>143853</td>\n",
       "    </tr>\n",
       "    <tr>\n",
       "      <th>8</th>\n",
       "      <td>Nanjing University</td>\n",
       "      <td>RINGGOLD</td>\n",
       "      <td>12581</td>\n",
       "    </tr>\n",
       "  </tbody>\n",
       "</table>\n",
       "</div>"
      ],
      "text/plain": [
       "                                                name    source identifier\n",
       "0  Instituto Politécnico do Porto Escola Superior...  RINGGOLD     203255\n",
       "1        Universidade do Porto Faculdade de Desporto  RINGGOLD     224740\n",
       "3  Instituto Politécnico do Porto Escola Superior...  RINGGOLD     203255\n",
       "4          University of Oregon College of Education  RINGGOLD     143853\n",
       "8                                 Nanjing University  RINGGOLD      12581"
      ]
     },
     "execution_count": 597,
     "metadata": {},
     "output_type": "execute_result"
    }
   ],
   "source": [
    "# Remove any duplicate rows except the first one.\n",
    "df_ringgold=df_ringgold.drop_duplicates(keep='first')\n",
    "df_ringgold.head()"
   ]
  },
  {
   "cell_type": "code",
   "execution_count": 598,
   "metadata": {},
   "outputs": [],
   "source": [
    "df_ringgold['key']='researchgraph.org/ringgold/'+df_ringgold['identifier']\n",
    "df_ringgold['source']='orcid.org'\n",
    "df_ringgold['local_id']=df_ringgold['identifier']\n",
    "df_ringgold['ringgold']=df_ringgold['identifier']\n",
    "df_ringgold['last_updated']= now"
   ]
  },
  {
   "cell_type": "code",
   "execution_count": 599,
   "metadata": {},
   "outputs": [],
   "source": [
    "df_ringgold.to_csv('nodes_orcid_ringgold.csv', index=False, columns=['key','source','local_id','name', 'ringgold'], sep=\"|\")"
   ]
  },
  {
   "cell_type": "code",
   "execution_count": 600,
   "metadata": {},
   "outputs": [],
   "source": [
    "number_ringgold_nodes=len(df_ringgold.index)"
   ]
  },
  {
   "cell_type": "markdown",
   "metadata": {},
   "source": [
    "# Create relation_orcid_ringold.csv\n",
    "---"
   ]
  },
  {
   "cell_type": "code",
   "execution_count": 601,
   "metadata": {},
   "outputs": [],
   "source": [
    "df_ringgold = df_input_file[df_input_file['source']=='RINGGOLD']"
   ]
  },
  {
   "cell_type": "code",
   "execution_count": 602,
   "metadata": {},
   "outputs": [],
   "source": [
    "df_ringgold['from_key']='researchgraph.org/orcid/' + df_ringgold['orcid']\n",
    "df_ringgold['to_uri']= 'researchgraph.org/ringgold/' + df_ringgold['identifier']\n",
    "df_ringgold['label']=df_ringgold['relation_type']\n",
    "df_ringgold.loc[df_ringgold['label']=='educations','label']='education'\n",
    "df_ringgold.loc[df_ringgold['label']=='employments','label']='employment'"
   ]
  },
  {
   "cell_type": "code",
   "execution_count": 603,
   "metadata": {},
   "outputs": [],
   "source": [
    "df_ringgold.to_csv('relation_orcid_ringgold.csv', index=False, columns=['from_key','to_uri','label'], sep=\"|\")"
   ]
  },
  {
   "cell_type": "markdown",
   "metadata": {},
   "source": [
    "# Create relation_orcid_fundref.csv\n",
    "---"
   ]
  },
  {
   "cell_type": "code",
   "execution_count": 604,
   "metadata": {},
   "outputs": [],
   "source": [
    "df_fundref = df_input_file[df_input_file['source']=='FUNDREF']"
   ]
  },
  {
   "cell_type": "code",
   "execution_count": 605,
   "metadata": {},
   "outputs": [],
   "source": [
    "df_fundref['from_key']='researchgraph.org/orcid/' + df_fundref['orcid']\n",
    "df_fundref['identifier'].replace({\"http://dx.doi.org/\": \"\"}, inplace=True, regex=True)\n",
    "df_fundref['to_uri']= 'researchgraph.org/fundref/' + df_fundref['identifier']\n",
    "df_fundref['label']=df_fundref['relation_type']\n",
    "df_fundref.loc[df_fundref['label']=='educations','label']='education'\n",
    "df_fundref.loc[df_fundref['label']=='employments','label']='employment'"
   ]
  },
  {
   "cell_type": "code",
   "execution_count": 606,
   "metadata": {},
   "outputs": [],
   "source": [
    "df_fundref.to_csv('relation_orcid_fundref.csv', index=False, columns=['from_key','to_uri','label'], sep=\"|\")"
   ]
  },
  {
   "cell_type": "markdown",
   "metadata": {},
   "source": [
    "# Create relation_orcid_grid.csv\n",
    "---"
   ]
  },
  {
   "cell_type": "code",
   "execution_count": 607,
   "metadata": {
    "collapsed": true
   },
   "outputs": [],
   "source": [
    "df_grid = df_input_file[df_input_file['source']=='GRID']"
   ]
  },
  {
   "cell_type": "code",
   "execution_count": 608,
   "metadata": {},
   "outputs": [],
   "source": [
    "df_grid['identifier'].replace({\"grid.\": \"\"}, inplace=True, regex=True)\n",
    "df_grid['from_key']='researchgraph.org/orcid/' + df_grid['orcid']\n",
    "df_grid['to_uri']= 'researchgraph.org/grid/' + df_grid['identifier']\n",
    "df_grid['label']=df_grid['relation_type']\n",
    "df_grid.loc[df_grid['label']=='educations','label']='education'\n",
    "df_grid.loc[df_grid['label']=='employments','label']='employment'"
   ]
  },
  {
   "cell_type": "code",
   "execution_count": 609,
   "metadata": {
    "collapsed": true
   },
   "outputs": [],
   "source": [
    "df_grid.to_csv('relation_orcid_grid.csv', index=False, columns=['from_key','to_uri','label'], sep=\"|\")"
   ]
  },
  {
   "cell_type": "markdown",
   "metadata": {},
   "source": [
    "# Final Report\n",
    "---"
   ]
  },
  {
   "cell_type": "code",
   "execution_count": 614,
   "metadata": {},
   "outputs": [
    {
     "name": "stdout",
     "output_type": "stream",
     "text": [
      "Number of RINGGOLD IDs: 637\n",
      "Number of FUNDREF IDs: 23\n",
      "Number of GRID IDs: 45\n",
      "---\n",
      "Number of orcid-ringgold relations: 907\n",
      "Number of orcid-fundref relations: 32\n",
      "Number of orcid-grid relations: 61\n"
     ]
    }
   ],
   "source": [
    "print ('Number of RINGGOLD IDs:', number_ringgold_nodes)\n",
    "print ('Number of FUNDREF IDs:', df_fundref['identifier'].nunique())\n",
    "print ('Number of GRID IDs:', df_grid['identifier'].nunique())\n",
    "print ('---')\n",
    "print ('Number of orcid-ringgold relations:', len(df_ringgold.index))\n",
    "print ('Number of orcid-fundref relations:', len(df_fundref.index))\n",
    "print ('Number of orcid-grid relations:', len(df_grid.index))"
   ]
  },
  {
   "cell_type": "code",
   "execution_count": null,
   "metadata": {
    "collapsed": true
   },
   "outputs": [],
   "source": []
  }
 ],
 "metadata": {
  "kernelspec": {
   "display_name": "Python 3",
   "language": "python",
   "name": "python3"
  },
  "language_info": {
   "codemirror_mode": {
    "name": "ipython",
    "version": 3
   },
   "file_extension": ".py",
   "mimetype": "text/x-python",
   "name": "python",
   "nbconvert_exporter": "python",
   "pygments_lexer": "ipython3",
   "version": "3.6.3"
  }
 },
 "nbformat": 4,
 "nbformat_minor": 2
}
